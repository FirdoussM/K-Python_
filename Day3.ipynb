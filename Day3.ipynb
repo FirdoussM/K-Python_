{
 "cells": [
  {
   "cell_type": "markdown",
   "id": "c5b77287-a721-48af-8c7c-b566f5d023db",
   "metadata": {},
   "source": [
    "### Task 1 : Declares the variables below and use the type function to see what class they are:"
   ]
  },
  {
   "cell_type": "code",
   "execution_count": 1,
   "id": "1c5a7733-22c3-45ea-9c41-8f0571baec14",
   "metadata": {},
   "outputs": [],
   "source": [
    "var1 = 1\n",
    "var2 = True\n",
    "var3 = 10.023\n",
    "var4 = 10+3j"
   ]
  },
  {
   "cell_type": "code",
   "execution_count": 4,
   "id": "37ab7912-d6f6-425d-9d58-b0ddf7c14236",
   "metadata": {},
   "outputs": [
    {
     "name": "stdout",
     "output_type": "stream",
     "text": [
      "Type of variable 1:  <class 'int'>\n",
      "Type of variable 2:  <class 'bool'>\n",
      "Type of variable 3:  <class 'float'>\n",
      "Type of variable 4:  <class 'complex'>\n"
     ]
    }
   ],
   "source": [
    "print(\"Type of variable 1: \",type(var1))\n",
    "print(\"Type of variable 2: \",type(var2))\n",
    "print(\"Type of variable 3: \",type(var3))\n",
    "print(\"Type of variable 4: \",type(var4))"
   ]
  },
  {
   "cell_type": "markdown",
   "id": "38b3b865-5b8a-44b0-8645-e6bad0c17b02",
   "metadata": {},
   "source": [
    "### Task 2 : Declare a string called str, with one thing you learned from kindergarten. Print the first character of the string (Think it's an array). Print from 3rd to 5th character (Treat it as an index range). Now try to print after the 3rd character. Print the same string twice using the repetitive operator (*), Now add your bestie's name to the string using the concatenation operator (*). Solution will be down."
   ]
  },
  {
   "cell_type": "code",
   "execution_count": 11,
   "id": "0be6d5af-029d-48bd-ada5-284e7bed9acd",
   "metadata": {},
   "outputs": [
    {
     "name": "stdout",
     "output_type": "stream",
     "text": [
      "M\n",
      "ut\n",
      "the\n",
      "MwutheMwuthe\n",
      "Mwuthe Kuruvilla\n"
     ]
    }
   ],
   "source": [
    "str = 'Mwuthe'\n",
    "print(str[0])\n",
    "print(str[2:4])\n",
    "print(str[3:])\n",
    "print(str*2)\n",
    "print(str+' Kuruvilla')"
   ]
  },
  {
   "cell_type": "markdown",
   "id": "49bfcace-e483-4102-9721-cc72e75fc356",
   "metadata": {},
   "source": [
    "### Task 3 : Try creating a list with two other lists inside it , is it possible?"
   ]
  },
  {
   "cell_type": "code",
   "execution_count": 13,
   "id": "90bc17e5-d1cd-45f6-8146-059b9dda9873",
   "metadata": {},
   "outputs": [
    {
     "name": "stdout",
     "output_type": "stream",
     "text": [
      "[[23, 'King', 40.0], [21, 'Queen', 30.0]]\n"
     ]
    }
   ],
   "source": [
    "list1 = [23,'King',40.0]\n",
    "list2 = [21, 'Queen', 30.0]\n",
    "list_ = [list1,list2]\n",
    "print(list_)\n",
    "#Yes it is possible"
   ]
  },
  {
   "cell_type": "markdown",
   "id": "2ee43f42-09bd-4536-b88c-bbacb0d97a06",
   "metadata": {},
   "source": [
    "### Task 4 : Create a list \"firdous\" and store 4 qualities you like about yourself.\n",
    "create another list called \"cars\" and add two of your favorite cars. Now do these tasks\n",
    "Print the whole list\n",
    "Print the third item\n",
    "Print the items from 1 to 3\n",
    "Print all the lists from end element\n",
    "Print the car list twice using *\n",
    "Print the concatenated version of both the strings\n"
   ]
  },
  {
   "cell_type": "code",
   "execution_count": 14,
   "id": "0a765c82-aab8-416c-a10d-d6acdba82ba6",
   "metadata": {},
   "outputs": [
    {
     "name": "stdout",
     "output_type": "stream",
     "text": [
      "['creative', 'delulu', 'strong', 'dedicated']\n",
      "['Mercedes AMG G63', 'Porsche 911']\n",
      "strong\n",
      "['creative', 'delulu', 'strong']\n",
      "dedicated\n",
      "Porsche 911\n",
      "['Mercedes AMG G63', 'Porsche 911', 'Mercedes AMG G63', 'Porsche 911']\n",
      "['creative', 'delulu', 'strong', 'dedicated', 'Mercedes AMG G63', 'Porsche 911']\n"
     ]
    }
   ],
   "source": [
    "firdous = [\"creative\", \"delulu\", \"strong\", \"dedicated\"]\n",
    "cars = [\"Mercedes AMG G63\", \"Porsche 911\"]\n",
    "print(firdous)\n",
    "print(cars)\n",
    "print(firdous[2])\n",
    "print(firdous[0:3])\n",
    "print(firdous[-1])\n",
    "print(cars[-1])\n",
    "print(cars*2)\n",
    "print(firdous+cars)"
   ]
  },
  {
   "cell_type": "markdown",
   "id": "c3df5c36-320e-4821-bfe1-3f37cb8e7e99",
   "metadata": {},
   "source": [
    "### Task 5: Try declaring a tuple, add your favorite foods and check its type. Can this also hold multiple data types like lists?"
   ]
  },
  {
   "cell_type": "code",
   "execution_count": 17,
   "id": "751a5480-6554-4e8e-8a4d-cceaaf4a0063",
   "metadata": {},
   "outputs": [
    {
     "name": "stdout",
     "output_type": "stream",
     "text": [
      "Type of favorite_foods: <class 'tuple'>\n",
      "('kk', 21, 3.0, (1, 2, 3), 'a')\n"
     ]
    }
   ],
   "source": [
    "favs = (\"noodles\",\"kunafa\",\"tiramisu\",\"iced coffee\")\n",
    "print(\"Type of favorite_foods:\", type(favs))\n",
    "multiple = (\"kk\",21,3.0,(1,2,3),\"a\")\n",
    "print(multiple)"
   ]
  },
  {
   "cell_type": "code",
   "execution_count": 18,
   "id": "49d749c1-e5a6-4fe9-af93-195287551413",
   "metadata": {},
   "outputs": [],
   "source": [
    "# list items can be changed, tuple cannot"
   ]
  },
  {
   "cell_type": "code",
   "execution_count": null,
   "id": "cd3a4a27-84a9-435a-b62d-3cdb4006a4bc",
   "metadata": {},
   "outputs": [],
   "source": []
  }
 ],
 "metadata": {
  "kernelspec": {
   "display_name": "Python 3 (ipykernel)",
   "language": "python",
   "name": "python3"
  },
  "language_info": {
   "codemirror_mode": {
    "name": "ipython",
    "version": 3
   },
   "file_extension": ".py",
   "mimetype": "text/x-python",
   "name": "python",
   "nbconvert_exporter": "python",
   "pygments_lexer": "ipython3",
   "version": "3.11.5"
  }
 },
 "nbformat": 4,
 "nbformat_minor": 5
}
