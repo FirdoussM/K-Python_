{
 "cells": [
  {
   "cell_type": "markdown",
   "id": "550e58a5-96f0-4979-ac42-060a744bc69f",
   "metadata": {},
   "source": [
    "Task 1 : Print the iconic hello world text."
   ]
  },
  {
   "cell_type": "code",
   "execution_count": 1,
   "id": "2adf7cec-da31-4dd5-ada4-0bcee07a806f",
   "metadata": {},
   "outputs": [
    {
     "name": "stdout",
     "output_type": "stream",
     "text": [
      "hello world\n"
     ]
    }
   ],
   "source": [
    "print('hello world')"
   ]
  },
  {
   "cell_type": "markdown",
   "id": "d21e91e4-2118-4af0-81ba-73da1c81f7aa",
   "metadata": {},
   "source": [
    "Task 2: Create a variable month with your fav month and create day with favourite number. try using the id() function , think what the result means.  change value in month and see if result in id() change."
   ]
  },
  {
   "cell_type": "code",
   "execution_count": 6,
   "id": "e1080aba-9e83-4324-824b-51b2367c73fd",
   "metadata": {},
   "outputs": [
    {
     "name": "stdout",
     "output_type": "stream",
     "text": [
      "ID of month variable: 4491246320\n",
      "ID of day variable: 4498165480\n",
      "ID of month variable: 4491247024\n"
     ]
    }
   ],
   "source": [
    "month = 'January'\n",
    "day = 11\n",
    "print(\"ID of month variable:\", id(month))\n",
    "print(\"ID of day variable:\", id(day))\n",
    "\n",
    "month = 'November'\n",
    "print(\"ID of month variable:\", id(month))\n",
    "#id() returns the identity of an object, a unique integer representing its memory address."
   ]
  },
  {
   "cell_type": "markdown",
   "id": "39fc3c9f-9c2d-4e58-ac72-08f8c74f7e48",
   "metadata": {},
   "source": [
    "Task 3: try using the del keyword to delete the create day and print day to see the result. example del age"
   ]
  },
  {
   "cell_type": "code",
   "execution_count": 7,
   "id": "c9d01e0d-4bac-41e4-93be-b8a014bd89e2",
   "metadata": {},
   "outputs": [],
   "source": [
    "del day"
   ]
  },
  {
   "cell_type": "code",
   "execution_count": 8,
   "id": "7dd4a70f-b3b6-4986-b4e3-12825916a085",
   "metadata": {},
   "outputs": [
    {
     "ename": "NameError",
     "evalue": "name 'day' is not defined",
     "output_type": "error",
     "traceback": [
      "\u001b[0;31m---------------------------------------------------------------------------\u001b[0m",
      "\u001b[0;31mNameError\u001b[0m                                 Traceback (most recent call last)",
      "Cell \u001b[0;32mIn[8], line 1\u001b[0m\n\u001b[0;32m----> 1\u001b[0m \u001b[38;5;28mprint\u001b[39m(\u001b[43mday\u001b[49m)\n",
      "\u001b[0;31mNameError\u001b[0m: name 'day' is not defined"
     ]
    }
   ],
   "source": [
    "print(day)"
   ]
  },
  {
   "cell_type": "markdown",
   "id": "6140ac94-889f-4bf5-9cad-1ea54a185ec6",
   "metadata": {},
   "source": [
    "Task 4: Create a float, int , char variable and name it your favorite colors and use the type() function to see its data type"
   ]
  },
  {
   "cell_type": "code",
   "execution_count": 10,
   "id": "323added-498c-4ca6-b272-0e7ce0073cd5",
   "metadata": {},
   "outputs": [
    {
     "name": "stdout",
     "output_type": "stream",
     "text": [
      "Type of float variable:  <class 'float'>\n",
      "Type of int variable:  <class 'int'>\n",
      "Type of char variable:  <class 'str'>\n"
     ]
    }
   ],
   "source": [
    "meow1 = 5.1\n",
    "meow2 = 4\n",
    "meow3 = 'Pearl'\n",
    "print(\"Type of float variable: \",type(meow1))\n",
    "print(\"Type of int variable: \",type(meow2))\n",
    "print(\"Type of char variable: \",type(meow3))"
   ]
  },
  {
   "cell_type": "markdown",
   "id": "92362d66-ecca-4b9a-8467-94f8fd215fb2",
   "metadata": {},
   "source": [
    "Task 5: Run the below commands and understand the case sensitivity."
   ]
  },
  {
   "cell_type": "code",
   "execution_count": 12,
   "id": "1cbc1b6e-330b-4609-8118-fcd3b519d10d",
   "metadata": {},
   "outputs": [
    {
     "name": "stdout",
     "output_type": "stream",
     "text": [
      "x =  10\n",
      "y =  10\n",
      "z =  10.0\n"
     ]
    }
   ],
   "source": [
    "x = str(10)\n",
    "y = int(10)\n",
    "z = float(10)\n",
    "\n",
    "print(\"x = \", x)\n",
    "print(\"y = \", y)\n",
    "print(\"z = \", z)\n",
    "# This demonstrates that while x, y, and z hold different types of values (string, integer, and float respectively), \n",
    "#they all represent the number 10. However, Python treats them differently based on their types. "
   ]
  },
  {
   "cell_type": "code",
   "execution_count": null,
   "id": "416d7206-6a44-4b71-ac1f-e4762418d6bb",
   "metadata": {},
   "outputs": [],
   "source": []
  }
 ],
 "metadata": {
  "kernelspec": {
   "display_name": "Python 3 (ipykernel)",
   "language": "python",
   "name": "python3"
  },
  "language_info": {
   "codemirror_mode": {
    "name": "ipython",
    "version": 3
   },
   "file_extension": ".py",
   "mimetype": "text/x-python",
   "name": "python",
   "nbconvert_exporter": "python",
   "pygments_lexer": "ipython3",
   "version": "3.11.5"
  }
 },
 "nbformat": 4,
 "nbformat_minor": 5
}
