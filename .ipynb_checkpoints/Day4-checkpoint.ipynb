{
 "cells": [
  {
   "cell_type": "markdown",
   "id": "7b25e7c3-33e7-4b2c-950c-7f0e2dde9077",
   "metadata": {},
   "source": [
    "### Task 1:\n",
    "example\n",
    "a = 10\n",
    "b = 20.5\n",
    "c = a + b\n",
    "\n",
    "check what the output comes is it int or float?"
   ]
  },
  {
   "cell_type": "code",
   "execution_count": 2,
   "id": "172ab76b-22a7-4e87-8aca-d1e7866261f2",
   "metadata": {},
   "outputs": [
    {
     "name": "stdout",
     "output_type": "stream",
     "text": [
      "30.5\n"
     ]
    }
   ],
   "source": [
    "a = 10\n",
    "b = 20.5\n",
    "c = a + b\n",
    "print(c)"
   ]
  },
  {
   "cell_type": "markdown",
   "id": "5b1e659c-20dd-4603-aff6-b6eb1ad18f08",
   "metadata": {},
   "source": [
    "### Task 2 : Now try string to integer conversion \n",
    "create a string\n",
    "a = \"100\"\n",
    "and convert it into type int\n",
    "then create a string\n",
    "b = \"10\" and convert it into int and try to add them both.\n",
    "After that c = int(\"10\"+\"01\")  and print it.\n",
    "will it give 11?\n",
    "Also try int(\"10.5\") what happens?"
   ]
  },
  {
   "cell_type": "code",
   "execution_count": 6,
   "id": "0eebb250-ba25-4b74-8498-1ba975a18a8e",
   "metadata": {},
   "outputs": [
    {
     "name": "stdout",
     "output_type": "stream",
     "text": [
      "a+b =  110\n",
      "1001\n"
     ]
    },
    {
     "ename": "ValueError",
     "evalue": "invalid literal for int() with base 10: '10.5'",
     "output_type": "error",
     "traceback": [
      "\u001b[0;31m---------------------------------------------------------------------------\u001b[0m",
      "\u001b[0;31mValueError\u001b[0m                                Traceback (most recent call last)",
      "Cell \u001b[0;32mIn[6], line 6\u001b[0m\n\u001b[1;32m      4\u001b[0m c \u001b[38;5;241m=\u001b[39m \u001b[38;5;28mint\u001b[39m(\u001b[38;5;124m\"\u001b[39m\u001b[38;5;124m10\u001b[39m\u001b[38;5;124m\"\u001b[39m\u001b[38;5;241m+\u001b[39m\u001b[38;5;124m\"\u001b[39m\u001b[38;5;124m01\u001b[39m\u001b[38;5;124m\"\u001b[39m)\n\u001b[1;32m      5\u001b[0m \u001b[38;5;28mprint\u001b[39m(c) \u001b[38;5;66;03m# Concatination\u001b[39;00m\n\u001b[0;32m----> 6\u001b[0m d \u001b[38;5;241m=\u001b[39m \u001b[38;5;28;43mint\u001b[39;49m\u001b[43m(\u001b[49m\u001b[38;5;124;43m\"\u001b[39;49m\u001b[38;5;124;43m10.5\u001b[39;49m\u001b[38;5;124;43m\"\u001b[39;49m\u001b[43m)\u001b[49m\n\u001b[1;32m      7\u001b[0m \u001b[38;5;28mprint\u001b[39m(d) \u001b[38;5;66;03m# Error as it is not an integer\u001b[39;00m\n",
      "\u001b[0;31mValueError\u001b[0m: invalid literal for int() with base 10: '10.5'"
     ]
    }
   ],
   "source": [
    "a = int(\"100\")\n",
    "b = int(\"10\")\n",
    "print(\"a+b = \", a+b)\n",
    "c = int(\"10\"+\"01\")\n",
    "print(c) # Concatination\n",
    "d = int(\"10.5\")\n",
    "print(d) # Error as it is not an integer"
   ]
  },
  {
   "cell_type": "code",
   "execution_count": 8,
   "id": "ca7b5c0f-df33-4184-93d6-1cc83d0db16b",
   "metadata": {},
   "outputs": [
    {
     "data": {
      "text/plain": [
       "51"
      ]
     },
     "execution_count": 8,
     "metadata": {},
     "output_type": "execute_result"
    }
   ],
   "source": [
    "a = int(\"110011\",2)\n",
    "a"
   ]
  },
  {
   "cell_type": "code",
   "execution_count": 9,
   "id": "0f5ef73a-3c8b-48a6-a181-cebe48b374aa",
   "metadata": {},
   "outputs": [
    {
     "data": {
      "text/plain": [
       "16"
      ]
     },
     "execution_count": 9,
     "metadata": {},
     "output_type": "execute_result"
    }
   ],
   "source": [
    "a = int(\"20\",8)\n",
    "a"
   ]
  },
  {
   "cell_type": "markdown",
   "id": "8524410a-c935-45ae-afcf-f536704f68b7",
   "metadata": {},
   "source": [
    "### Research task 3 : Using the unicode system print the rupee symbol on python"
   ]
  },
  {
   "cell_type": "code",
   "execution_count": 11,
   "id": "bef7de04-2676-4a7c-9130-6b24db395a73",
   "metadata": {},
   "outputs": [
    {
     "name": "stdout",
     "output_type": "stream",
     "text": [
      "Rupee symbol:  ₹\n"
     ]
    }
   ],
   "source": [
    "rupee = \"\\u20b9\"\n",
    "print(\"Rupee symbol: \", rupee)"
   ]
  },
  {
   "cell_type": "code",
   "execution_count": null,
   "id": "2eee687c-605d-4114-9a67-759e043c0c8a",
   "metadata": {},
   "outputs": [],
   "source": []
  }
 ],
 "metadata": {
  "kernelspec": {
   "display_name": "Python 3 (ipykernel)",
   "language": "python",
   "name": "python3"
  },
  "language_info": {
   "codemirror_mode": {
    "name": "ipython",
    "version": 3
   },
   "file_extension": ".py",
   "mimetype": "text/x-python",
   "name": "python",
   "nbconvert_exporter": "python",
   "pygments_lexer": "ipython3",
   "version": "3.11.5"
  }
 },
 "nbformat": 4,
 "nbformat_minor": 5
}
