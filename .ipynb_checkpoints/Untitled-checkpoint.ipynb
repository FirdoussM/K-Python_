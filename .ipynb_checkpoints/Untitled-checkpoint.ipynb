{
 "cells": [
  {
   "cell_type": "markdown",
   "id": "04d0ed5c-e1c4-4fe8-b230-430fff512863",
   "metadata": {},
   "source": [
    "### Task 1: Create two variables one variable is your name which is capitalized other one which is not capitalized and print the both variables and see if they are the same. Are they both different ?"
   ]
  },
  {
   "cell_type": "code",
   "execution_count": 1,
   "id": "f1018def-57d1-44fb-a44c-ddfa6ddf6990",
   "metadata": {},
   "outputs": [
    {
     "name": "stdout",
     "output_type": "stream",
     "text": [
      "Firdous =  Firdous\n",
      "firdous =  firdous\n"
     ]
    }
   ],
   "source": [
    "namecaps = 'Firdous'\n",
    "namenocaps = 'firdous'\n",
    "\n",
    "print('Firdous = ', namecaps)\n",
    "print('firdous = ',namenocaps)"
   ]
  },
  {
   "cell_type": "code",
   "execution_count": null,
   "id": "be596161-dfc4-442e-b3a5-7e6664f8850c",
   "metadata": {},
   "outputs": [],
   "source": []
  }
 ],
 "metadata": {
  "kernelspec": {
   "display_name": "Python 3 (ipykernel)",
   "language": "python",
   "name": "python3"
  },
  "language_info": {
   "codemirror_mode": {
    "name": "ipython",
    "version": 3
   },
   "file_extension": ".py",
   "mimetype": "text/x-python",
   "name": "python",
   "nbconvert_exporter": "python",
   "pygments_lexer": "ipython3",
   "version": "3.11.5"
  }
 },
 "nbformat": 4,
 "nbformat_minor": 5
}
