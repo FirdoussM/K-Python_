{
 "cells": [
  {
   "cell_type": "markdown",
   "id": "04d0ed5c-e1c4-4fe8-b230-430fff512863",
   "metadata": {},
   "source": [
    "### Task 1: Create two variables one variable is your name which is capitalized other one which is not capitalized and print the both variables and see if they are the same. Are they both different ?"
   ]
  },
  {
   "cell_type": "code",
   "execution_count": 1,
   "id": "f1018def-57d1-44fb-a44c-ddfa6ddf6990",
   "metadata": {},
   "outputs": [
    {
     "name": "stdout",
     "output_type": "stream",
     "text": [
      "Firdous =  Firdous\n",
      "firdous =  firdous\n"
     ]
    }
   ],
   "source": [
    "namecaps = 'Firdous'\n",
    "namenocaps = 'firdous'\n",
    "\n",
    "print('Firdous = ', namecaps)\n",
    "print('firdous = ',namenocaps)"
   ]
  },
  {
   "cell_type": "markdown",
   "id": "644cc8e0-3d41-45bd-a02e-2753bce4a984",
   "metadata": {},
   "source": [
    "### Task 2 : So now your task is to do the same but a,b,c should have different values . a should have 10 , b should have 20 , c should have 30. "
   ]
  },
  {
   "cell_type": "code",
   "execution_count": 2,
   "id": "6f5b6d6d-b891-486e-86ae-e5c14b081907",
   "metadata": {},
   "outputs": [
    {
     "name": "stdout",
     "output_type": "stream",
     "text": [
      "10 20 30\n"
     ]
    }
   ],
   "source": [
    "a,b,c = 10,20,30\n",
    "print(a,b,c)"
   ]
  },
  {
   "cell_type": "markdown",
   "id": "ba45dde5-e2c4-49c8-b864-8f7c14961a91",
   "metadata": {},
   "source": [
    "### Additional task : Try declaring a b c with three different data type of variables and see if its possible like a int , b float , c char."
   ]
  },
  {
   "cell_type": "code",
   "execution_count": 3,
   "id": "7e780c57-7346-4075-b4d4-800b502c4230",
   "metadata": {},
   "outputs": [
    {
     "name": "stdout",
     "output_type": "stream",
     "text": [
      "10 20.0 k\n"
     ]
    }
   ],
   "source": [
    "a,b,c = 10,20.0,'k'\n",
    "print(a,b,c)"
   ]
  },
  {
   "cell_type": "markdown",
   "id": "6b39ff21-b4eb-4618-b0b9-20cdb43643e8",
   "metadata": {},
   "source": [
    "### Task 3: Identify which is the accepted ways to name a variable\n",
    "- counter = 100        CORRECT\n",
    "- _count  = 100        CORRECT\n",
    "- 1counter = 100       INCORRECT\n",
    "- $_count  = 100       INCORRECT\n",
    "- name1 = \"Zara\"       CORRECT\n",
    "- name2 = \"Nuha\"       CORRECT\n",
    "- Age  = 20            CORRECT\n",
    "- zara-salary = 100000 INCORRECT\n",
    "- zara_salary = 100000 CORRECT"
   ]
  },
  {
   "cell_type": "code",
   "execution_count": null,
   "id": "14d7ff4d-a5a3-463a-a404-2043b43ea68d",
   "metadata": {},
   "outputs": [],
   "source": []
  }
 ],
 "metadata": {
  "kernelspec": {
   "display_name": "Python 3 (ipykernel)",
   "language": "python",
   "name": "python3"
  },
  "language_info": {
   "codemirror_mode": {
    "name": "ipython",
    "version": 3
   },
   "file_extension": ".py",
   "mimetype": "text/x-python",
   "name": "python",
   "nbconvert_exporter": "python",
   "pygments_lexer": "ipython3",
   "version": "3.11.5"
  }
 },
 "nbformat": 4,
 "nbformat_minor": 5
}
